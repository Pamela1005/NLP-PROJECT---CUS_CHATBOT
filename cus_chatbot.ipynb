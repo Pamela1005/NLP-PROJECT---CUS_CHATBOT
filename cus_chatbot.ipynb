{
  "cells": [
    {
      "cell_type": "markdown",
      "metadata": {
        "id": "view-in-github",
        "colab_type": "text"
      },
      "source": [
        "<a href=\"https://colab.research.google.com/github/Pamela1005/NLP-PROJECT---CUS_CHATBOT/blob/main/cus_chatbot.ipynb\" target=\"_parent\"><img src=\"https://colab.research.google.com/assets/colab-badge.svg\" alt=\"Open In Colab\"/></a>"
      ]
    },
    {
      "cell_type": "code",
      "source": [
        "# ============================================================\n",
        "# 🛍️ Customer Support Chatbot for Online Shopping\n",
        "# ============================================================\n",
        "\n",
        "# Import libraries\n",
        "import re\n",
        "import nltk\n",
        "from nltk.corpus import stopwords\n",
        "from nltk.stem import WordNetLemmatizer\n",
        "\n",
        "# Download NLTK data (run once)\n",
        "nltk.download('punkt')\n",
        "nltk.download('punkt_tab')  # fixes recent NLTK update\n",
        "nltk.download('stopwords')\n",
        "nltk.download('wordnet')\n",
        "\n",
        "# ------------------------------------------------------------\n",
        "# Step 1: Define sample intents and responses\n",
        "# ------------------------------------------------------------\n",
        "intents = {\n",
        "    'order_status': {\n",
        "        'keywords': ['order', 'track', 'status', 'delivery', 'shipped'],\n",
        "        'response': 'Your order {order_no} is out for delivery. 📦'\n",
        "    },\n",
        "    'return_policy': {\n",
        "        'keywords': ['return', 'refund', 'exchange'],\n",
        "        'response': 'You can return products within 15 days via our online portal.'\n",
        "    },\n",
        "    'delivery_info': {\n",
        "        'keywords': ['delivery', 'time', 'how long', 'arrive'],\n",
        "        'response': 'Standard delivery takes 3–5 business days.'\n",
        "    },\n",
        "    'product_info': {\n",
        "        'keywords': ['product', 'specs', 'details', 'information'],\n",
        "        'response': 'Please visit the product page for full specifications.'\n",
        "    },\n",
        "    'default': {\n",
        "        'keywords': [],\n",
        "        'response': \"I'm sorry, I didn’t understand that. Could you please rephrase?\"\n",
        "    }\n",
        "}\n",
        "\n",
        "# ------------------------------------------------------------\n",
        "# Step 2: Text preprocessing\n",
        "# ------------------------------------------------------------\n",
        "lemmatizer = WordNetLemmatizer()\n",
        "stop_words = set(stopwords.words('english'))\n",
        "\n",
        "def preprocess(text):\n",
        "    tokens = nltk.word_tokenize(text.lower())\n",
        "    tokens = [lemmatizer.lemmatize(w) for w in tokens if w.isalnum() and w not in stop_words]\n",
        "    return tokens\n",
        "\n",
        "# ------------------------------------------------------------\n",
        "# Step 3: Extract order number (using regex)\n",
        "# ------------------------------------------------------------\n",
        "def extract_order_number(text):\n",
        "    match = re.search(r'#?\\d{4,}', text)\n",
        "    return match.group() if match else None\n",
        "\n",
        "# ------------------------------------------------------------\n",
        "# Step 4: Identify user intent\n",
        "# ------------------------------------------------------------\n",
        "def detect_intent(text):\n",
        "    tokens = preprocess(text)\n",
        "    for intent, data in intents.items():\n",
        "        if any(word in tokens for word in data['keywords']):\n",
        "            return intent\n",
        "    return 'default'\n",
        "\n",
        "# ------------------------------------------------------------\n",
        "# Step 5: Generate chatbot response\n",
        "# ------------------------------------------------------------\n",
        "def get_response(user_input):\n",
        "    intent = detect_intent(user_input)\n",
        "    order_no = extract_order_number(user_input)\n",
        "\n",
        "    response = intents[intent]['response']\n",
        "    if '{order_no}' in response:\n",
        "        response = response.replace('{order_no}', order_no if order_no else '#0000')\n",
        "    return response\n",
        "\n",
        "# ------------------------------------------------------------\n",
        "# Step 6: Chatbot interaction loop\n",
        "# ------------------------------------------------------------\n",
        "print(\"🛍️ Customer Support Chatbot\")\n",
        "print(\"Type 'exit' to quit.\\n\")\n",
        "\n",
        "while True:\n",
        "    user_input = input(\"You: \")\n",
        "    if user_input.lower() in ['exit', 'quit']:\n",
        "        print(\"Chatbot: Thank you for visiting! 👋\")\n",
        "        break\n",
        "    print(\"Chatbot:\", get_response(user_input))\n"
      ],
      "metadata": {
        "id": "9slb_DXF5GyJ",
        "outputId": "51ec8e8c-e226-489c-edef-9c12f77ae41f",
        "colab": {
          "base_uri": "https://localhost:8080/"
        }
      },
      "execution_count": null,
      "outputs": [
        {
          "output_type": "stream",
          "name": "stderr",
          "text": [
            "[nltk_data] Downloading package punkt to /root/nltk_data...\n",
            "[nltk_data]   Unzipping tokenizers/punkt.zip.\n",
            "[nltk_data] Downloading package punkt_tab to /root/nltk_data...\n",
            "[nltk_data]   Unzipping tokenizers/punkt_tab.zip.\n",
            "[nltk_data] Downloading package stopwords to /root/nltk_data...\n",
            "[nltk_data]   Unzipping corpora/stopwords.zip.\n",
            "[nltk_data] Downloading package wordnet to /root/nltk_data...\n"
          ]
        },
        {
          "output_type": "stream",
          "name": "stdout",
          "text": [
            "🛍️ Customer Support Chatbot\n",
            "Type 'exit' to quit.\n",
            "\n",
            "You: I WANT TO RETURN THE ITEM\n",
            "Chatbot: You can return products within 15 days via our online portal.\n"
          ]
        }
      ]
    }
  ],
  "metadata": {
    "colab": {
      "name": "Welcome To Colab",
      "toc_visible": true,
      "provenance": [],
      "gpuType": "T4",
      "include_colab_link": true
    },
    "kernelspec": {
      "display_name": "Python 3",
      "name": "python3"
    },
    "accelerator": "GPU"
  },
  "nbformat": 4,
  "nbformat_minor": 0
}